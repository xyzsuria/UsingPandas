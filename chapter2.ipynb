{
 "cells": [
  {
   "cell_type": "markdown",
   "id": "cdb16994",
   "metadata": {},
   "source": [
    "## Python 的数据结构\n",
    "\n",
    "不可变数据：Number（数字）、String（字符串）、Tuple（元组）。\n",
    "\n",
    "可变数据：List（列表）、Dictionary（字典）、Set（集合）。"
   ]
  },
  {
   "cell_type": "code",
   "execution_count": 10,
   "id": "875a5804",
   "metadata": {},
   "outputs": [
    {
     "data": {
      "text/plain": [
       "{'name': 'Tom', 'age': 18, 'height': 180}"
      ]
     },
     "execution_count": 10,
     "metadata": {},
     "output_type": "execute_result"
    }
   ],
   "source": [
    "d = {} # 定义空字典\n",
    "d = dict() # 定义空字典\n",
    "d = {'a': 1, 'b': 2, 'c': 3}\n",
    "d = {'a': 1, 'a': 1, 'a': 1} # {'a': 1} key不能重复，重复时取最后一个\n",
    "d = {'a': 1, 'b': {'x': 3}} # 嵌套字典\n",
    "d = {'a': [1,2,3], 'b': [4,5,6]} # 嵌套列表\n",
    "\n",
    "# 以下均可定义如下结果\n",
    "# {'name': 'Tom', 'age': 18, 'height': 180}|\n",
    "d = dict(name='Tom', age=18, height=180)\n",
    "d = dict([('name', 'Tom'), ('age', 18), ('height', 180)])\n",
    "d = dict(zip(['name', 'age', 'height'], ['Tom', 18, 180]))\n",
    "d"
   ]
  },
  {
   "cell_type": "code",
   "execution_count": 11,
   "id": "75cf07ea",
   "metadata": {},
   "outputs": [
    {
     "data": {
      "text/plain": [
       "['a', 'b', 'c']"
      ]
     },
     "execution_count": 11,
     "metadata": {},
     "output_type": "execute_result"
    }
   ],
   "source": [
    "d.pop('name') # 'Tom'（删除指定key）\n",
    "d.popitem() # 随机删除某一项\n",
    "d\n",
    "# del d['name']  # 删除键值对\n",
    "d.clear()  # 清空字典\n",
    "\n",
    "# 按类型访问，可迭代\n",
    "d.keys() # 列出所有键\n",
    "d.values() # 列出所有值\n",
    "d.items() # 列出所有键值对元组（k, v）\n",
    "\n",
    "# 操作\n",
    "d.setdefault('a', 3) # 插入一个键并给定默认值3，如不指定，则为None\n",
    "d1 = {}\n",
    "d1.update(d) # 将字典dict2的键值对添加到字典dict\n",
    "# 如果键存在，则返回其对应值；如果键不在字典中，则返回默认值\n",
    "d.get('math', 100) # 100\n",
    "d2 = d.copy() # 深拷贝，d变化不影响d2\n",
    "\n",
    "d = {'a': 1, 'b': 2, 'c': 3}\n",
    "max(d) # 'c'（最大的键）\n",
    "min(d) # 'a'（最小的键）\n",
    "len(d) # 3（字典的长度）\n",
    "str(d) # \"{'a': 1, 'b': 2, 'c': 3}\"（字符串形式）\n",
    "any(d) # True（只要一个键为True）\n",
    "all(d) # True（所有键都为True）\n",
    "sorted(d) # ['a', 'b', 'c']（所有键的列表排序）"
   ]
  },
  {
   "cell_type": "markdown",
   "id": "91bec86f",
   "metadata": {},
   "source": [
    "### 集合"
   ]
  },
  {
   "cell_type": "code",
   "execution_count": 12,
   "id": "c936b412",
   "metadata": {},
   "outputs": [],
   "source": [
    "s = {'a', 'b', 'c'}\n",
    "\n",
    "# 判断是否有某个元素\n",
    "'a' in s # True\n",
    "\n",
    "# 添加元素\n",
    "s.add(2) # {2, 'a', 'b', 'c'}\n",
    "s.update([1,3,4]) # {1, 2, 3, 4, 'a', 'b', 'c'}\n",
    "\n",
    "# 删除和清空元素\n",
    "s.remove('a') # {'b', 'c'}（删除不存在的会报错）\n",
    "s.discard('3') # 删除一个元素，无则忽略，不报错\n",
    "s.clear() # set()（清空）"
   ]
  },
  {
   "cell_type": "code",
   "execution_count": 14,
   "id": "d9dbf0f0",
   "metadata": {},
   "outputs": [
    {
     "name": "stdout",
     "output_type": "stream",
     "text": [
      "{1, 2, 3}\n",
      "{2, 3}\n",
      "{2, 3} {2, 3, 4}\n"
     ]
    },
    {
     "data": {
      "text/plain": [
       "False"
      ]
     },
     "execution_count": 14,
     "metadata": {},
     "output_type": "execute_result"
    }
   ],
   "source": [
    "s1 = {1,2,3}\n",
    "s2 = {2,3,4}\n",
    "\n",
    "s1 & s2 # {2, 3}（交集）\n",
    "s1.intersection(s2) # {2, 3}（交集）\n",
    "print(s1)\n",
    "s1.intersection_update(s2) # {2, 3}（交集，会覆盖s1）\n",
    "print(s1)\n",
    "s1 | s2  # {1, 2, 3, 4}（并集）\n",
    "s = s1.union(s2) # {1, 2, 3, 4}（并集）\n",
    "print(s1,s)\n",
    "s1.difference(s2) # {1}（差集）\n",
    "s1.difference_update(s2) # {1}（差集，会覆盖s1）\n",
    "\n",
    "s1.symmetric_difference(s2) # {1, 4}（交集之外）\n",
    "\n",
    "s1.isdisjoint(s2) # False（是否没有交集）\n",
    "s1.issubset(s2) # False （s1是否是s2的子集）\n",
    "s1.issuperset(s2) # False（s1是否是s2的超集，即s1是否包含s2中的所有元素）"
   ]
  },
  {
   "cell_type": "markdown",
   "id": "6d397bbf",
   "metadata": {},
   "source": [
    "### Numpy"
   ]
  },
  {
   "cell_type": "code",
   "execution_count": 1,
   "id": "a08070c4",
   "metadata": {},
   "outputs": [
    {
     "name": "stdout",
     "output_type": "stream",
     "text": [
      "[[0 0 0 0 0 0]\n",
      " [0 0 0 0 0 0]\n",
      " [0 0 0 0 0 0]\n",
      " [0 0 0 0 0 0]\n",
      " [0 0 0 0 0 0]] [1. 1. 1. 1.] [0. 0. 0. 0.]\n"
     ]
    },
    {
     "data": {
      "text/plain": [
       "(array([0, 0, 0, 0, 0, 0]),\n",
       " array([1, 1, 1, 1, 1, 1]),\n",
       " array([1, 0, 0, 0, 0, 0]))"
      ]
     },
     "execution_count": 1,
     "metadata": {},
     "output_type": "execute_result"
    }
   ],
   "source": [
    "import numpy as np\n",
    "np.arange(10) # 10个，不包括10，步长为1\n",
    "np.arange(3, 10, 0.1) # 从3到9，步长为0.1\n",
    "# 从2.0到3.0，生成均匀的5个值，不包括终值3.0\n",
    "np.linspace(2.0, 3.0, num=5, endpoint=False)\n",
    " # 返回一个6×4的随机数组，浮点型\n",
    "np.random.randn(6, 4)\n",
    "# 指定范围、指定形状的数组，整型\n",
    "np.random.randint(3, 7, size=(2, 4))\n",
    "# 创建值为0的数组\n",
    "np.zeros(6) # 6个浮点0.\n",
    "a = np.zeros((5, 6), dtype=int) # 5×6整型0\n",
    "b = np.ones(4) # 同上\n",
    "c = np.empty(4) # 同上\n",
    " # 创建一份和目标结构相同的0值数组\n",
    "x = np.zeros_like(np.arange(6))\n",
    "y = np.ones_like(np.arange(6)) # 同上\n",
    "z = np.empty_like(np.arange(6)) # 同上\n",
    "print(a,b,c)\n",
    "x,y,z"
   ]
  },
  {
   "cell_type": "code",
   "execution_count": 8,
   "id": "7cd3c013",
   "metadata": {},
   "outputs": [
    {
     "data": {
      "text/html": [
       "<div>\n",
       "<style scoped>\n",
       "    .dataframe tbody tr th:only-of-type {\n",
       "        vertical-align: middle;\n",
       "    }\n",
       "\n",
       "    .dataframe tbody tr th {\n",
       "        vertical-align: top;\n",
       "    }\n",
       "\n",
       "    .dataframe thead th {\n",
       "        text-align: right;\n",
       "    }\n",
       "</style>\n",
       "<table border=\"1\" class=\"dataframe\">\n",
       "  <thead>\n",
       "    <tr style=\"text-align: right;\">\n",
       "      <th></th>\n",
       "      <th>a</th>\n",
       "      <th>b</th>\n",
       "      <th>v</th>\n",
       "      <th>e</th>\n",
       "      <th>x</th>\n",
       "      <th>q</th>\n",
       "    </tr>\n",
       "  </thead>\n",
       "  <tbody>\n",
       "    <tr>\n",
       "      <th>a</th>\n",
       "      <td>0</td>\n",
       "      <td>0</td>\n",
       "      <td>0</td>\n",
       "      <td>0</td>\n",
       "      <td>0</td>\n",
       "      <td>0</td>\n",
       "    </tr>\n",
       "    <tr>\n",
       "      <th>b</th>\n",
       "      <td>0</td>\n",
       "      <td>0</td>\n",
       "      <td>0</td>\n",
       "      <td>0</td>\n",
       "      <td>0</td>\n",
       "      <td>0</td>\n",
       "    </tr>\n",
       "    <tr>\n",
       "      <th>v</th>\n",
       "      <td>0</td>\n",
       "      <td>0</td>\n",
       "      <td>0</td>\n",
       "      <td>0</td>\n",
       "      <td>0</td>\n",
       "      <td>0</td>\n",
       "    </tr>\n",
       "    <tr>\n",
       "      <th>e</th>\n",
       "      <td>0</td>\n",
       "      <td>0</td>\n",
       "      <td>0</td>\n",
       "      <td>0</td>\n",
       "      <td>0</td>\n",
       "      <td>0</td>\n",
       "    </tr>\n",
       "    <tr>\n",
       "      <th>x</th>\n",
       "      <td>0</td>\n",
       "      <td>0</td>\n",
       "      <td>0</td>\n",
       "      <td>0</td>\n",
       "      <td>0</td>\n",
       "      <td>0</td>\n",
       "    </tr>\n",
       "  </tbody>\n",
       "</table>\n",
       "</div>"
      ],
      "text/plain": [
       "   a  b  v  e  x  q\n",
       "a  0  0  0  0  0  0\n",
       "b  0  0  0  0  0  0\n",
       "v  0  0  0  0  0  0\n",
       "e  0  0  0  0  0  0\n",
       "x  0  0  0  0  0  0"
      ]
     },
     "execution_count": 8,
     "metadata": {},
     "output_type": "execute_result"
    }
   ],
   "source": [
    "import pandas as pd\n",
    "a = np.zeros((5, 6), dtype=int) # 5×6整型0\n",
    "b = pd.DataFrame(a,index=[\"a\",\"b\",\"v\",\"e\",\"x\"],columns =[\"a\",\"b\",\"v\",\"e\",\"x\",\"q\"] )\n",
    "b"
   ]
  },
  {
   "cell_type": "code",
   "execution_count": 18,
   "id": "6a159ee4",
   "metadata": {},
   "outputs": [
    {
     "data": {
      "text/plain": [
       "(array([[10, 20, 30, 40],\n",
       "        [10, 20, 30, 40]]),\n",
       " array([100, 100]))"
      ]
     },
     "execution_count": 18,
     "metadata": {},
     "output_type": "execute_result"
    }
   ],
   "source": [
    "np.array([10, 20, 30, 40])[:3] # 支持类似列表的切片\n",
    "a = np.array([10, 20, 30, 40])\n",
    "b = np.array([1, 2, 3, 4])\n",
    "a+b # array([11, 22, 33, 44])（矩阵相加）\n",
    "a-1 # array([9, 19, 29, 39])\n",
    "4*np.sin(a)\n",
    "\n",
    "# 以下是一些数学函数的例子，还支持非常多的数学函数\n",
    "a.max() # 40\n",
    "a.min() # 10\n",
    "a.sum() # 100\n",
    "a.std() # 11.180339887498949\n",
    "a.all() # True\n",
    "a.cumsum() # array([10, 30, 60, 100])\n",
    "c = np.array([[10, 20, 30, 40],[10, 20, 30, 40]])\n",
    "d = c.sum(axis=1) # 多维可以指定方向\n",
    "c,d"
   ]
  },
  {
   "cell_type": "code",
   "execution_count": 20,
   "id": "8469944c",
   "metadata": {},
   "outputs": [
    {
     "data": {
      "text/html": [
       "<div>\n",
       "<style scoped>\n",
       "    .dataframe tbody tr th:only-of-type {\n",
       "        vertical-align: middle;\n",
       "    }\n",
       "\n",
       "    .dataframe tbody tr th {\n",
       "        vertical-align: top;\n",
       "    }\n",
       "\n",
       "    .dataframe thead th {\n",
       "        text-align: right;\n",
       "    }\n",
       "</style>\n",
       "<table border=\"1\" class=\"dataframe\">\n",
       "  <thead>\n",
       "    <tr style=\"text-align: right;\">\n",
       "      <th></th>\n",
       "      <th>国家</th>\n",
       "      <th>地区</th>\n",
       "      <th>人口</th>\n",
       "      <th>GDP</th>\n",
       "    </tr>\n",
       "  </thead>\n",
       "  <tbody>\n",
       "    <tr>\n",
       "      <th>0</th>\n",
       "      <td>中国</td>\n",
       "      <td>亚洲</td>\n",
       "      <td>13.97</td>\n",
       "      <td>14.34</td>\n",
       "    </tr>\n",
       "    <tr>\n",
       "      <th>1</th>\n",
       "      <td>美国</td>\n",
       "      <td>北美</td>\n",
       "      <td>3.28</td>\n",
       "      <td>21.43</td>\n",
       "    </tr>\n",
       "    <tr>\n",
       "      <th>2</th>\n",
       "      <td>日本</td>\n",
       "      <td>亚洲</td>\n",
       "      <td>1.26</td>\n",
       "      <td>5.08</td>\n",
       "    </tr>\n",
       "  </tbody>\n",
       "</table>\n",
       "</div>"
      ],
      "text/plain": [
       "   国家  地区     人口    GDP\n",
       "0  中国  亚洲  13.97  14.34\n",
       "1  美国  北美   3.28  21.43\n",
       "2  日本  亚洲   1.26   5.08"
      ]
     },
     "execution_count": 20,
     "metadata": {},
     "output_type": "execute_result"
    }
   ],
   "source": [
    "import pandas as pd\n",
    "import numpy as np\n",
    "df = pd.DataFrame({'国家': ['中国', '美国', '日本'],\n",
    "                   '地区': ['亚洲', '北美', '亚洲'],\n",
    "                   '人口': [13.97, 3.28, 1.26],\n",
    "                   'GDP': [14.34, 21.43, 5.08],\n",
    "                  })\n",
    "df"
   ]
  },
  {
   "cell_type": "code",
   "execution_count": 21,
   "id": "ce2ac094",
   "metadata": {},
   "outputs": [
    {
     "data": {
      "text/html": [
       "<div>\n",
       "<style scoped>\n",
       "    .dataframe tbody tr th:only-of-type {\n",
       "        vertical-align: middle;\n",
       "    }\n",
       "\n",
       "    .dataframe tbody tr th {\n",
       "        vertical-align: top;\n",
       "    }\n",
       "\n",
       "    .dataframe thead th {\n",
       "        text-align: right;\n",
       "    }\n",
       "</style>\n",
       "<table border=\"1\" class=\"dataframe\">\n",
       "  <thead>\n",
       "    <tr style=\"text-align: right;\">\n",
       "      <th></th>\n",
       "      <th>A</th>\n",
       "      <th>B</th>\n",
       "      <th>C</th>\n",
       "      <th>D</th>\n",
       "      <th>E</th>\n",
       "      <th>F</th>\n",
       "    </tr>\n",
       "  </thead>\n",
       "  <tbody>\n",
       "    <tr>\n",
       "      <th>0</th>\n",
       "      <td>1.0</td>\n",
       "      <td>2013-01-02</td>\n",
       "      <td>1.0</td>\n",
       "      <td>3</td>\n",
       "      <td>test</td>\n",
       "      <td>foo</td>\n",
       "    </tr>\n",
       "    <tr>\n",
       "      <th>1</th>\n",
       "      <td>1.0</td>\n",
       "      <td>2013-01-02</td>\n",
       "      <td>1.0</td>\n",
       "      <td>3</td>\n",
       "      <td>train</td>\n",
       "      <td>foo</td>\n",
       "    </tr>\n",
       "    <tr>\n",
       "      <th>2</th>\n",
       "      <td>1.0</td>\n",
       "      <td>2013-01-02</td>\n",
       "      <td>1.0</td>\n",
       "      <td>3</td>\n",
       "      <td>test</td>\n",
       "      <td>foo</td>\n",
       "    </tr>\n",
       "    <tr>\n",
       "      <th>3</th>\n",
       "      <td>1.0</td>\n",
       "      <td>2013-01-02</td>\n",
       "      <td>1.0</td>\n",
       "      <td>3</td>\n",
       "      <td>train</td>\n",
       "      <td>foo</td>\n",
       "    </tr>\n",
       "  </tbody>\n",
       "</table>\n",
       "</div>"
      ],
      "text/plain": [
       "     A          B    C  D      E    F\n",
       "0  1.0 2013-01-02  1.0  3   test  foo\n",
       "1  1.0 2013-01-02  1.0  3  train  foo\n",
       "2  1.0 2013-01-02  1.0  3   test  foo\n",
       "3  1.0 2013-01-02  1.0  3  train  foo"
      ]
     },
     "execution_count": 21,
     "metadata": {},
     "output_type": "execute_result"
    }
   ],
   "source": [
    "df2 = pd.DataFrame({'A': 1.,\n",
    "                    'B': pd.Timestamp('20130102'),\n",
    "                    'C': pd.Series(1, index=list(range(4)), dtype='float32'),\n",
    "                    'D': np.array([3] * 4, dtype='int32'),\n",
    "                    'E': pd.Categorical([\"test\", \"train\", \"test\", \"train\"]),\n",
    "                    'F': 'foo'})\n",
    "df2"
   ]
  },
  {
   "cell_type": "code",
   "execution_count": 22,
   "id": "4cf40237",
   "metadata": {},
   "outputs": [
    {
     "data": {
      "text/plain": [
       "0    13.97\n",
       "1     3.28\n",
       "2     1.26\n",
       "Name: 人口, dtype: float64"
      ]
     },
     "execution_count": 22,
     "metadata": {},
     "output_type": "execute_result"
    }
   ],
   "source": [
    "df[\"人口\"]"
   ]
  },
  {
   "cell_type": "code",
   "execution_count": 23,
   "id": "3d514d88",
   "metadata": {},
   "outputs": [
    {
     "data": {
      "text/plain": [
       "0    14.34\n",
       "1    21.43\n",
       "2     5.08\n",
       "Name: gdp, dtype: float64"
      ]
     },
     "execution_count": 23,
     "metadata": {},
     "output_type": "execute_result"
    }
   ],
   "source": [
    "s = pd.Series([14.34, 21.43, 5.08], name='gdp')\n",
    "s"
   ]
  },
  {
   "cell_type": "code",
   "execution_count": 24,
   "id": "9680b413",
   "metadata": {},
   "outputs": [
    {
     "data": {
      "text/plain": [
       "(pandas.core.series.Series, pandas.core.frame.DataFrame)"
      ]
     },
     "execution_count": 24,
     "metadata": {},
     "output_type": "execute_result"
    }
   ],
   "source": [
    "type(s),type(df)"
   ]
  },
  {
   "cell_type": "markdown",
   "id": "2a6f0a31",
   "metadata": {},
   "source": [
    "### 生成 Series"
   ]
  },
  {
   "cell_type": "code",
   "execution_count": 25,
   "id": "d322262d",
   "metadata": {},
   "outputs": [
    {
     "data": {
      "text/plain": [
       "0    a\n",
       "1    b\n",
       "2    c\n",
       "3    d\n",
       "4    e\n",
       "dtype: object"
      ]
     },
     "execution_count": 25,
     "metadata": {},
     "output_type": "execute_result"
    }
   ],
   "source": [
    "# 使用元组\n",
    "pd.Series(['a', 'b', 'c', 'd', 'e'])\n",
    "pd.Series(('a', 'b', 'c', 'd', 'e'))"
   ]
  },
  {
   "cell_type": "code",
   "execution_count": 28,
   "id": "ec91fda7",
   "metadata": {},
   "outputs": [
    {
     "data": {
      "text/plain": [
       "(Index(['a', 'b', 'c', 'd', 'e'], dtype='object'),\n",
       " a    1.059102\n",
       " b   -0.025856\n",
       " c    0.454272\n",
       " d   -1.144590\n",
       " e   -1.286931\n",
       " dtype: float64)"
      ]
     },
     "execution_count": 28,
     "metadata": {},
     "output_type": "execute_result"
    }
   ],
   "source": [
    "# 使用 ndarray\n",
    "# 由索引分别为a、b、c、d、e的5个随机浮点数数组组成\n",
    "s = pd.Series(np.random.randn(5), index=['a', 'b', 'c', 'd', 'e'])\n",
    "s.index,s # 查看索引,"
   ]
  },
  {
   "cell_type": "code",
   "execution_count": 30,
   "id": "aeecf9d0",
   "metadata": {},
   "outputs": [
    {
     "data": {
      "text/plain": [
       "0   -0.233951\n",
       "1   -0.639189\n",
       "2    1.018661\n",
       "3    1.742110\n",
       "4    0.615751\n",
       "dtype: float64"
      ]
     },
     "execution_count": 30,
     "metadata": {},
     "output_type": "execute_result"
    }
   ],
   "source": [
    "s = pd.Series(np.random.randn(5)) # 未指定索引\n",
    "s"
   ]
  },
  {
   "cell_type": "code",
   "execution_count": 31,
   "id": "ca20603a",
   "metadata": {},
   "outputs": [
    {
     "data": {
      "text/plain": [
       "'\\nb    1.0\\nc    2.0\\nd    NaN\\na    0.0\\ndtype: float64\\n'"
      ]
     },
     "execution_count": 31,
     "metadata": {},
     "output_type": "execute_result"
    }
   ],
   "source": [
    "d = {'b': 1, 'a': 0, 'c': 2}\n",
    "s = pd.Series(d)\n",
    "s\n",
    "'''\n",
    "b    1\n",
    "a    0\n",
    "c    2\n",
    "dtype: int64\n",
    "'''\n",
    "\n",
    "# 如果指定索引，则会按索引顺序，如有无法与索引对应的值，会产生缺失值\n",
    "pd.Series(d, index=['b', 'c', 'd', 'a'])\n",
    "'''\n",
    "b    1.0\n",
    "c    2.0\n",
    "d    NaN\n",
    "a    0.0\n",
    "dtype: float64\n",
    "'''"
   ]
  },
  {
   "cell_type": "code",
   "execution_count": 33,
   "id": "2557c147",
   "metadata": {},
   "outputs": [
    {
     "data": {
      "text/plain": [
       "a    5.0\n",
       "b    5.0\n",
       "c    5.0\n",
       "d    5.0\n",
       "e    5.0\n",
       "dtype: float64"
      ]
     },
     "execution_count": 33,
     "metadata": {},
     "output_type": "execute_result"
    }
   ],
   "source": [
    "# 使用标量\n",
    "pd.Series(5.)\n",
    "'''\n",
    "0    5.0\n",
    "dtype: float64\n",
    "'''\n",
    "\n",
    "# 指定索引\n",
    "pd.Series(5., index=['a', 'b', 'c', 'd', 'e'])"
   ]
  },
  {
   "cell_type": "markdown",
   "id": "990a892b",
   "metadata": {},
   "source": [
    "### 生成 dataframe"
   ]
  },
  {
   "cell_type": "markdown",
   "id": "d7a3a0fc",
   "metadata": {},
   "source": [
    "#### 基本格式 \n",
    "df = pd.DataFrame(data=None, index=None, columns=None)"
   ]
  },
  {
   "cell_type": "code",
   "execution_count": 34,
   "id": "7ba4abfe",
   "metadata": {},
   "outputs": [
    {
     "data": {
      "text/html": [
       "<div>\n",
       "<style scoped>\n",
       "    .dataframe tbody tr th:only-of-type {\n",
       "        vertical-align: middle;\n",
       "    }\n",
       "\n",
       "    .dataframe tbody tr th {\n",
       "        vertical-align: top;\n",
       "    }\n",
       "\n",
       "    .dataframe thead th {\n",
       "        text-align: right;\n",
       "    }\n",
       "</style>\n",
       "<table border=\"1\" class=\"dataframe\">\n",
       "  <thead>\n",
       "    <tr style=\"text-align: right;\">\n",
       "      <th></th>\n",
       "      <th>国家</th>\n",
       "      <th>人口</th>\n",
       "    </tr>\n",
       "  </thead>\n",
       "  <tbody>\n",
       "    <tr>\n",
       "      <th>0</th>\n",
       "      <td>中国</td>\n",
       "      <td>14.33</td>\n",
       "    </tr>\n",
       "    <tr>\n",
       "      <th>1</th>\n",
       "      <td>美国</td>\n",
       "      <td>3.29</td>\n",
       "    </tr>\n",
       "    <tr>\n",
       "      <th>2</th>\n",
       "      <td>日本</td>\n",
       "      <td>1.26</td>\n",
       "    </tr>\n",
       "  </tbody>\n",
       "</table>\n",
       "</div>"
      ],
      "text/plain": [
       "   国家     人口\n",
       "0  中国  14.33\n",
       "1  美国   3.29\n",
       "2  日本   1.26"
      ]
     },
     "execution_count": 34,
     "metadata": {},
     "output_type": "execute_result"
    }
   ],
   "source": [
    "d = {'国家': ['中国', '美国', '日本'],\n",
    "     '人口': [14.33, 3.29, 1.26]}\n",
    "df = pd.DataFrame(d)\n",
    "df"
   ]
  },
  {
   "cell_type": "code",
   "execution_count": 35,
   "id": "3a1e8c00",
   "metadata": {},
   "outputs": [
    {
     "data": {
      "text/html": [
       "<div>\n",
       "<style scoped>\n",
       "    .dataframe tbody tr th:only-of-type {\n",
       "        vertical-align: middle;\n",
       "    }\n",
       "\n",
       "    .dataframe tbody tr th {\n",
       "        vertical-align: top;\n",
       "    }\n",
       "\n",
       "    .dataframe thead th {\n",
       "        text-align: right;\n",
       "    }\n",
       "</style>\n",
       "<table border=\"1\" class=\"dataframe\">\n",
       "  <thead>\n",
       "    <tr style=\"text-align: right;\">\n",
       "      <th></th>\n",
       "      <th>x</th>\n",
       "      <th>y</th>\n",
       "    </tr>\n",
       "  </thead>\n",
       "  <tbody>\n",
       "    <tr>\n",
       "      <th>a</th>\n",
       "      <td>1.0</td>\n",
       "      <td>1.0</td>\n",
       "    </tr>\n",
       "    <tr>\n",
       "      <th>b</th>\n",
       "      <td>2.0</td>\n",
       "      <td>2.0</td>\n",
       "    </tr>\n",
       "    <tr>\n",
       "      <th>c</th>\n",
       "      <td>3.0</td>\n",
       "      <td>3.0</td>\n",
       "    </tr>\n",
       "    <tr>\n",
       "      <th>d</th>\n",
       "      <td>NaN</td>\n",
       "      <td>4.0</td>\n",
       "    </tr>\n",
       "  </tbody>\n",
       "</table>\n",
       "</div>"
      ],
      "text/plain": [
       "     x    y\n",
       "a  1.0  1.0\n",
       "b  2.0  2.0\n",
       "c  3.0  3.0\n",
       "d  NaN  4.0"
      ]
     },
     "execution_count": 35,
     "metadata": {},
     "output_type": "execute_result"
    }
   ],
   "source": [
    "# series 组成的字典\n",
    "d = {'x': pd.Series([1., 2., 3.], index=['a', 'b', 'c']),\n",
    "     'y': pd.Series([1., 2., 3., 4.], index=['a', 'b', 'c', 'd'])}\n",
    "df = pd.DataFrame(d)\n",
    "df"
   ]
  },
  {
   "cell_type": "code",
   "execution_count": 37,
   "id": "90ffe11c",
   "metadata": {},
   "outputs": [
    {
     "data": {
      "text/html": [
       "<div>\n",
       "<style scoped>\n",
       "    .dataframe tbody tr th:only-of-type {\n",
       "        vertical-align: middle;\n",
       "    }\n",
       "\n",
       "    .dataframe tbody tr th {\n",
       "        vertical-align: top;\n",
       "    }\n",
       "\n",
       "    .dataframe thead th {\n",
       "        text-align: right;\n",
       "    }\n",
       "</style>\n",
       "<table border=\"1\" class=\"dataframe\">\n",
       "  <thead>\n",
       "    <tr style=\"text-align: right;\">\n",
       "      <th></th>\n",
       "      <th>x</th>\n",
       "      <th>y</th>\n",
       "      <th>z</th>\n",
       "    </tr>\n",
       "  </thead>\n",
       "  <tbody>\n",
       "    <tr>\n",
       "      <th>a</th>\n",
       "      <td>1</td>\n",
       "      <td>2</td>\n",
       "      <td>NaN</td>\n",
       "    </tr>\n",
       "    <tr>\n",
       "      <th>b</th>\n",
       "      <td>3</td>\n",
       "      <td>4</td>\n",
       "      <td>5.0</td>\n",
       "    </tr>\n",
       "  </tbody>\n",
       "</table>\n",
       "</div>"
      ],
      "text/plain": [
       "   x  y    z\n",
       "a  1  2  NaN\n",
       "b  3  4  5.0"
      ]
     },
     "execution_count": 37,
     "metadata": {},
     "output_type": "execute_result"
    }
   ],
   "source": [
    "# 定义一个字典列表\n",
    "data = [{'x': 1, 'y': 2}, {'x': 3, 'y': 4, 'z': 5}]\n",
    "\n",
    "# 生成DataFrame对象\n",
    "pd.DataFrame(data)\n",
    "'''\n",
    "   x  y    z\n",
    "0  1  2  NaN\n",
    "1  3  4  5.0\n",
    "'''\n",
    "\n",
    "# 指定索引\n",
    "d = pd.DataFrame(data, index=['a', 'b'])\n",
    "d"
   ]
  },
  {
   "cell_type": "code",
   "execution_count": 38,
   "id": "5b07c313",
   "metadata": {},
   "outputs": [
    {
     "data": {
      "text/html": [
       "<div>\n",
       "<style scoped>\n",
       "    .dataframe tbody tr th:only-of-type {\n",
       "        vertical-align: middle;\n",
       "    }\n",
       "\n",
       "    .dataframe tbody tr th {\n",
       "        vertical-align: top;\n",
       "    }\n",
       "\n",
       "    .dataframe thead th {\n",
       "        text-align: right;\n",
       "    }\n",
       "</style>\n",
       "<table border=\"1\" class=\"dataframe\">\n",
       "  <thead>\n",
       "    <tr style=\"text-align: right;\">\n",
       "      <th></th>\n",
       "      <th>0</th>\n",
       "    </tr>\n",
       "  </thead>\n",
       "  <tbody>\n",
       "    <tr>\n",
       "      <th>0</th>\n",
       "      <td>a</td>\n",
       "    </tr>\n",
       "    <tr>\n",
       "      <th>1</th>\n",
       "      <td>b</td>\n",
       "    </tr>\n",
       "    <tr>\n",
       "      <th>2</th>\n",
       "      <td>c</td>\n",
       "    </tr>\n",
       "    <tr>\n",
       "      <th>3</th>\n",
       "      <td>d</td>\n",
       "    </tr>\n",
       "    <tr>\n",
       "      <th>4</th>\n",
       "      <td>e</td>\n",
       "    </tr>\n",
       "  </tbody>\n",
       "</table>\n",
       "</div>"
      ],
      "text/plain": [
       "   0\n",
       "0  a\n",
       "1  b\n",
       "2  c\n",
       "3  d\n",
       "4  e"
      ]
     },
     "execution_count": 38,
     "metadata": {},
     "output_type": "execute_result"
    }
   ],
   "source": [
    "s = pd.Series(['a', 'b', 'c', 'd', 'e'])\n",
    "pd.DataFrame(s)"
   ]
  },
  {
   "cell_type": "code",
   "execution_count": 42,
   "id": "4278c4fa",
   "metadata": {},
   "outputs": [
    {
     "name": "stdout",
     "output_type": "stream",
     "text": [
      "   国家     人口\n",
      "0  中国  13.97\n",
      "1  美国   3.28\n",
      "2  日本   1.26\n"
     ]
    },
    {
     "data": {
      "text/html": [
       "<div>\n",
       "<style scoped>\n",
       "    .dataframe tbody tr th:only-of-type {\n",
       "        vertical-align: middle;\n",
       "    }\n",
       "\n",
       "    .dataframe tbody tr th {\n",
       "        vertical-align: top;\n",
       "    }\n",
       "\n",
       "    .dataframe thead th {\n",
       "        text-align: right;\n",
       "    }\n",
       "</style>\n",
       "<table border=\"1\" class=\"dataframe\">\n",
       "  <thead>\n",
       "    <tr style=\"text-align: right;\">\n",
       "      <th></th>\n",
       "      <th>0</th>\n",
       "      <th>1</th>\n",
       "      <th>2</th>\n",
       "    </tr>\n",
       "  </thead>\n",
       "  <tbody>\n",
       "    <tr>\n",
       "      <th>0</th>\n",
       "      <td>中国</td>\n",
       "      <td>美国</td>\n",
       "      <td>日本</td>\n",
       "    </tr>\n",
       "    <tr>\n",
       "      <th>1</th>\n",
       "      <td>13.97</td>\n",
       "      <td>3.28</td>\n",
       "      <td>1.26</td>\n",
       "    </tr>\n",
       "  </tbody>\n",
       "</table>\n",
       "</div>"
      ],
      "text/plain": [
       "       0     1     2\n",
       "0     中国    美国    日本\n",
       "1  13.97  3.28  1.26"
      ]
     },
     "execution_count": 42,
     "metadata": {},
     "output_type": "execute_result"
    }
   ],
   "source": [
    "# 从字典里生成\n",
    "a = pd.DataFrame.from_dict({'国家': ['中国', '美国', '日本'],'人口': [13.97, 3.28, 1.26]})\n",
    "# 从列表、元组、ndarray中生成\n",
    "b = pd.DataFrame.from_records([('中国', '美国', '日本'), (13.97, 3.28, 1.26)])\n",
    "\n",
    "print(a)\n",
    "b"
   ]
  }
 ],
 "metadata": {
  "kernelspec": {
   "display_name": "Python 3 (ipykernel)",
   "language": "python",
   "name": "python3"
  },
  "language_info": {
   "codemirror_mode": {
    "name": "ipython",
    "version": 3
   },
   "file_extension": ".py",
   "mimetype": "text/x-python",
   "name": "python",
   "nbconvert_exporter": "python",
   "pygments_lexer": "ipython3",
   "version": "3.7.8"
  }
 },
 "nbformat": 4,
 "nbformat_minor": 5
}
